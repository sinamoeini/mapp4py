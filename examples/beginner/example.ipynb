{
 "cells": [
  {
   "cell_type": "markdown",
   "metadata": {},
   "source": [
    "# 1. preparation"
   ]
  },
  {
   "cell_type": "markdown",
   "metadata": {},
   "source": [
    "## import packages"
   ]
  },
  {
   "cell_type": "code",
   "execution_count": null,
   "metadata": {},
   "outputs": [],
   "source": [
    "import os, sys, time\n",
    "import numpy as np\n",
    "import mapp4py\n",
    "from mapp4py import md"
   ]
  },
  {
   "cell_type": "markdown",
   "metadata": {},
   "source": [
    "## block the output of all cores except for one"
   ]
  },
  {
   "cell_type": "code",
   "execution_count": null,
   "metadata": {},
   "outputs": [],
   "source": [
    "from mapp4py import mpi\n",
    "if mpi().rank!=0:\n",
    "    with open(os.devnull, 'w') as f:\n",
    "        sys.stdout = f;"
   ]
  },
  {
   "cell_type": "markdown",
   "metadata": {},
   "source": [
    "# 2. prepare `mapp4py.md.atoms` object"
   ]
  },
  {
   "cell_type": "markdown",
   "metadata": {},
   "source": [
    "## load intial configuraion"
   ]
  },
  {
   "cell_type": "markdown",
   "metadata": {},
   "source": [
    "Import the initial configuration. This will construct an `mapp4py.md.atoms` object. \n",
    "It is just a bcc unit cell with two atoms."
   ]
  },
  {
   "cell_type": "code",
   "execution_count": null,
   "metadata": {},
   "outputs": [],
   "source": [
    "sim = md.atoms.import_cfg(\"configs/Fe_300K.cfg\"); # sim's type is md.atoms"
   ]
  },
  {
   "cell_type": "markdown",
   "metadata": {},
   "source": [
    "## set the planck constant and boltzmann"
   ]
  },
  {
   "cell_type": "code",
   "execution_count": null,
   "metadata": {},
   "outputs": [],
   "source": [
    "sim.kB = 8.617330350e-5\n",
    "sim.hP = 4.13566766225 * 0.1 * np.sqrt(1.60217656535/1.66053904020)"
   ]
  },
  {
   "cell_type": "markdown",
   "metadata": {},
   "source": [
    "## To increase the number atoms we can replicate ineach dimension"
   ]
  },
  {
   "cell_type": "code",
   "execution_count": null,
   "metadata": {},
   "outputs": [],
   "source": [
    "sim *= [8, 8, 8]; ## sim.__imul__([8, 8, 8])"
   ]
  },
  {
   "cell_type": "markdown",
   "metadata": {},
   "source": [
    "## assign forcefield"
   ]
  },
  {
   "cell_type": "code",
   "execution_count": null,
   "metadata": {},
   "outputs": [],
   "source": [
    "# let us load the force field \n",
    "sim.ff_eam_setfl(\"potentials/FeH-sina.eam.alloy\");"
   ]
  },
  {
   "cell_type": "markdown",
   "metadata": {},
   "source": [
    "## optional"
   ]
  },
  {
   "cell_type": "markdown",
   "metadata": {},
   "source": [
    "to make our example a bit more interesting let us remove  10.0 % of atoms randomly"
   ]
  },
  {
   "cell_type": "code",
   "execution_count": null,
   "metadata": {},
   "outputs": [],
   "source": [
    "np.random.seed(4534534);\n",
    "frac = 0.1;\n",
    "def remove_random(x, x_d, elem, x_dof, id):\n",
    "    if np.random.random() < frac:\n",
    "        return False;\n",
    "    \n",
    "# def remove_random():\n",
    "#     if np.random.random() < frac:\n",
    "#         return False;    \n",
    "\n",
    "sim.do(remove_random)"
   ]
  },
  {
   "cell_type": "markdown",
   "metadata": {},
   "source": [
    "## assign intial velocities"
   ]
  },
  {
   "cell_type": "markdown",
   "metadata": {},
   "source": [
    "in order for the system not to start from zero temperature we need to set the velocities using gaussian distribution"
   ]
  },
  {
   "cell_type": "code",
   "execution_count": null,
   "metadata": {},
   "outputs": [],
   "source": [
    "sim.create_temp(300.0, 846244)"
   ]
  },
  {
   "cell_type": "markdown",
   "metadata": {},
   "source": [
    "# 3. define ensemble(s) / minimization(s) object"
   ]
  },
  {
   "cell_type": "markdown",
   "metadata": {},
   "source": [
    "## nvt"
   ]
  },
  {
   "cell_type": "code",
   "execution_count": null,
   "metadata": {},
   "outputs": [],
   "source": [
    "# 0.1 [T] (see above) it is about 1 fs\n",
    "nvt=md.nvt(300.0,0.1);\n",
    "# print thermodynamic variables every 10000 steps\n",
    "nvt.ntally = 100;\n",
    "# dump the snapshots every 10000 steps\n",
    "nvt.export = md.export_cfg('dumps/dump',100,sort=True)"
   ]
  },
  {
   "cell_type": "markdown",
   "metadata": {},
   "source": [
    "## muvt"
   ]
  },
  {
   "cell_type": "code",
   "execution_count": null,
   "metadata": {},
   "outputs": [],
   "source": [
    "def mu(p,T):\n",
    "    return -2.37+0.0011237850013293155*T+0.00004308665175*T*np.log(p)-0.000193889932875*T*np.log(T);"
   ]
  },
  {
   "cell_type": "code",
   "execution_count": null,
   "metadata": {},
   "outputs": [],
   "source": [
    "muvt=md.muvt(mu(1.0e-3,300.0),300.0,0.1,'H',73108204);\n",
    "muvt.nevery=100;\n",
    "muvt.nattempts=40000;\n",
    "muvt.ntally=1000;\n",
    "muvt.export=md.export_cfg('dumps/dump',10000)"
   ]
  },
  {
   "cell_type": "markdown",
   "metadata": {},
   "source": [
    "## nst"
   ]
  },
  {
   "cell_type": "code",
   "execution_count": null,
   "metadata": {},
   "outputs": [],
   "source": [
    "sh=float('nan')\n",
    "nst=md.nst([[0.0],[sh,0.0],[sh,sh,0.0]],300,0.1);\n",
    "nst.ntally=1000;\n",
    "nst.export=md.export_cfg('dumps/dump',1000);"
   ]
  },
  {
   "cell_type": "markdown",
   "metadata": {},
   "source": [
    "## min_cg"
   ]
  },
  {
   "cell_type": "code",
   "execution_count": null,
   "metadata": {},
   "outputs": [],
   "source": [
    "min_cg=md.min_cg(e_tol=1.0e-8);\n",
    "min_cg.ntally=0;\n",
    "min_cg.ls=mapp4py.ls_brent();\n",
    "min_cg.export=md.export_cfg('dumps/dump',1000);"
   ]
  },
  {
   "cell_type": "markdown",
   "metadata": {},
   "source": [
    "## min_lbfgs"
   ]
  },
  {
   "cell_type": "code",
   "execution_count": null,
   "metadata": {},
   "outputs": [],
   "source": [
    "min_lbfgs=md.min_cg(e_tol=1.0e-8);\n",
    "min_lbfgs.ntally=0;\n",
    "min_lbfgs.ls=mapp4py.ls_brent();\n",
    "min_lbfgs.export=md.export_cfg('dumps/dump',1000);"
   ]
  },
  {
   "cell_type": "markdown",
   "metadata": {},
   "source": [
    "# 4. start a simulation"
   ]
  },
  {
   "cell_type": "markdown",
   "metadata": {},
   "source": [
    "## nvt"
   ]
  },
  {
   "cell_type": "code",
   "execution_count": null,
   "metadata": {},
   "outputs": [],
   "source": [
    "nvt.run(sim,100)"
   ]
  },
  {
   "cell_type": "markdown",
   "metadata": {},
   "source": [
    "## nst"
   ]
  },
  {
   "cell_type": "code",
   "execution_count": null,
   "metadata": {},
   "outputs": [],
   "source": [
    "nst.run(sim,100)"
   ]
  },
  {
   "cell_type": "markdown",
   "metadata": {},
   "source": [
    "## muvt"
   ]
  },
  {
   "cell_type": "code",
   "execution_count": null,
   "metadata": {},
   "outputs": [],
   "source": [
    "sim.add_elem('H',1.007940)\n",
    "muvt.run(sim,nsteps);"
   ]
  }
 ],
 "metadata": {
  "kernelspec": {
   "display_name": "Python 3",
   "language": "python",
   "name": "python3"
  },
  "language_info": {
   "codemirror_mode": {
    "name": "ipython",
    "version": 3
   },
   "file_extension": ".py",
   "mimetype": "text/x-python",
   "name": "python",
   "nbconvert_exporter": "python",
   "pygments_lexer": "ipython3",
   "version": "3.8.2"
  }
 },
 "nbformat": 4,
 "nbformat_minor": 4
}
