{
 "cells": [
  {
   "cell_type": "markdown",
   "metadata": {
    "heading_collapsed": true
   },
   "source": [
    "# Introduction "
   ]
  },
  {
   "cell_type": "markdown",
   "metadata": {
    "heading_collapsed": true
   },
   "source": [
    "# Preperation"
   ]
  },
  {
   "cell_type": "markdown",
   "metadata": {
    "heading_collapsed": true,
    "hidden": true
   },
   "source": [
    "## Import packages"
   ]
  },
  {
   "cell_type": "code",
   "execution_count": null,
   "metadata": {
    "hidden": true
   },
   "outputs": [],
   "source": [
    "import numpy as np\n",
    "import matplotlib.pyplot as plt\n",
    "import mapp4py\n",
    "from mapp4py import md\n",
    "from lib.elasticity import rot, cubic, resize, displace, crack"
   ]
  },
  {
   "cell_type": "markdown",
   "metadata": {
    "heading_collapsed": true,
    "hidden": true
   },
   "source": [
    "## Block the output of all cores except for one"
   ]
  },
  {
   "cell_type": "code",
   "execution_count": null,
   "metadata": {
    "hidden": true
   },
   "outputs": [],
   "source": [
    "from mapp4py import mpi\n",
    "if mpi().rank!=0:\n",
    "    with open(os.devnull, 'w') as f:\n",
    "        sys.stdout = f;"
   ]
  },
  {
   "cell_type": "markdown",
   "metadata": {
    "heading_collapsed": true,
    "hidden": true
   },
   "source": [
    "## Define an `md.export_cfg` object "
   ]
  },
  {
   "cell_type": "markdown",
   "metadata": {
    "hidden": true
   },
   "source": [
    "`md.export_cfg` has a call method that we can use to create quick snapshots of our simulation box"
   ]
  },
  {
   "cell_type": "code",
   "execution_count": null,
   "metadata": {
    "hidden": true
   },
   "outputs": [],
   "source": [
    "xprt = md.export_cfg(\"\");"
   ]
  },
  {
   "cell_type": "markdown",
   "metadata": {
    "heading_collapsed": true
   },
   "source": [
    "# Asymptotic Displacement Field of Crack from Linear Elasticity"
   ]
  },
  {
   "cell_type": "code",
   "execution_count": null,
   "metadata": {
    "hidden": true
   },
   "outputs": [],
   "source": [
    "_ = np.array([[-1,1,0],[1,1,1],[1,1,-2]], dtype=np.float);\n",
    "Q = np.linalg.inv(np.sqrt(_ @ _.T)) @ _;"
   ]
  },
  {
   "cell_type": "code",
   "execution_count": null,
   "metadata": {
    "hidden": true
   },
   "outputs": [],
   "source": [
    "C = rot(cubic(1.3967587463636366,0.787341583191591,0.609615090769241),Q)"
   ]
  },
  {
   "cell_type": "code",
   "execution_count": null,
   "metadata": {
    "hidden": true
   },
   "outputs": [],
   "source": [
    "B = np.linalg.inv(\n",
    "    np.array([\n",
    "    [C[0, 0, 0, 0], C[0, 0, 1, 1], C[0, 0, 0, 1]],\n",
    "    [C[0, 0, 1, 1], C[1, 1, 1, 1], C[1, 1, 0, 1]],\n",
    "    [C[0, 0, 0, 1], C[1, 1, 0, 1], C[0, 1, 0, 1]]\n",
    "    ]\n",
    "))"
   ]
  },
  {
   "cell_type": "code",
   "execution_count": null,
   "metadata": {
    "hidden": true
   },
   "outputs": [],
   "source": [
    "_ = np.roots([B[0, 0], -2.0*B[0, 2],2.0*B[0, 1]+B[2, 2], -2.0*B[1, 2], B[1, 1]])\n",
    "\n",
    "mu = np.array([_[0],0.0]);\n",
    "\n",
    "if np.absolute(np.conjugate(mu[0]) - _[1]) > 1.0e-12:\n",
    "    mu[1] = _[1];\n",
    "else:\n",
    "    mu[1] = _[2]\n",
    "\n",
    "alpha = np.real(mu);\n",
    "beta = np.imag(mu);\n",
    "\n",
    "p = B[0,0] * mu**2 - B[0,2] * mu + B[0, 1]\n",
    "q = B[0,1] * mu - B[0, 2] + B[1, 1]/ mu\n",
    "\n",
    "K = np.stack([p, q]) * np.array(mu[1], mu[0]) /(mu[1] - mu[0])\n",
    "\n",
    "K_r = np.real(K)\n",
    "K_i = np.imag(K)"
   ]
  },
  {
   "cell_type": "code",
   "execution_count": null,
   "metadata": {
    "hidden": true
   },
   "outputs": [],
   "source": [
    "Tr = np.stack([\n",
    "    np.array(np.array([[1.0, alpha[0]], [0.0, beta[0]]])), \n",
    "    np.array([[1.0, alpha[1]], [0.0, beta[1]]])\n",
    "], axis=1)\n",
    "\n",
    "\n",
    "def u_f0(x): return np.sqrt(np.sqrt(x[0] * x[0] + x[1] * x[1]) + x[0])\n",
    "def u_f1(x): return np.sqrt(np.sqrt(x[0] * x[0] + x[1] * x[1]) - x[0]) * np.sign(x[1]) \n",
    "\n",
    "\n",
    "def disp(x): \n",
    "    _ = Tr @ x\n",
    "    return K_r @ u_f0(_) + K_i @ u_f1(_)"
   ]
  },
  {
   "cell_type": "code",
   "execution_count": null,
   "metadata": {
    "hidden": true
   },
   "outputs": [],
   "source": [
    "n = 300;\n",
    "r = 10;\n",
    "disp_scale = 0.3;\n",
    "\n",
    "n0 = int(np.round(n/ (1 +np.pi), ))\n",
    "n1 = n - n0\n",
    "\n",
    "xs = np.concatenate((\n",
    "        np.stack([np.linspace(0, -r , n0), np.full((n0,), -1.e-8)]),\n",
    "        r * np.stack([np.cos(np.linspace(-np.pi, np.pi , n1)),np.sin(np.linspace(-np.pi, np.pi , n1))]), \n",
    "        np.stack([np.linspace(-r, 0 , n0), np.full((n0,), 1.e-8)]),\n",
    "    ), axis =1)\n",
    "\n",
    "xs_def = xs + disp_scale * disp(xs)\n",
    "\n",
    "fig, ax = plt.subplots(figsize=(10.5,5), ncols = 2)\n",
    "ax[0].plot(xs[0], xs[1], \"b-\", label=\"non-deformed\");\n",
    "ax[1].plot(xs_def[0], xs_def[1], \"r-.\", label=\"deformed\");"
   ]
  },
  {
   "cell_type": "markdown",
   "metadata": {
    "heading_collapsed": true
   },
   "source": [
    "# Configuration"
   ]
  },
  {
   "cell_type": "markdown",
   "metadata": {
    "heading_collapsed": true,
    "hidden": true
   },
   "source": [
    "## Create a $[\\bar{1}10]\\times\\frac{1}{2}[111]\\times[11\\bar{2}]$ cell"
   ]
  },
  {
   "cell_type": "markdown",
   "metadata": {
    "heading_collapsed": true,
    "hidden": true
   },
   "source": [
    "### start with a $[100]\\times[010]\\times[001]$ cell"
   ]
  },
  {
   "cell_type": "code",
   "execution_count": null,
   "metadata": {
    "hidden": true
   },
   "outputs": [],
   "source": [
    "sim = md.atoms.import_cfg(\"configs/Fe_300K.cfg\");\n",
    "a = sim.H[0][0]"
   ]
  },
  {
   "cell_type": "markdown",
   "metadata": {
    "heading_collapsed": true,
    "hidden": true
   },
   "source": [
    "### Create a $[\\bar{1}10]\\times[111]\\times[11\\bar{2}]$ cell"
   ]
  },
  {
   "cell_type": "code",
   "execution_count": null,
   "metadata": {
    "hidden": true
   },
   "outputs": [],
   "source": [
    "sim.cell_change([[-1,1,0],[1,1,1],[1,1,-2]])"
   ]
  },
  {
   "cell_type": "markdown",
   "metadata": {
    "heading_collapsed": true,
    "hidden": true
   },
   "source": [
    "### Remove half of the atoms and readjust the position of remaining"
   ]
  },
  {
   "cell_type": "markdown",
   "metadata": {
    "hidden": true
   },
   "source": [
    "Now one needs to cut the cell in half in $[111]$ direction. We can achive this in three steps:\n",
    "\n",
    "1. Remove the atoms that are above located above $\\frac{1}{2}[111]$\n",
    "2. Double the position of the remiaing atoms in the said direction\n",
    "3. Shrink the box affinly to half on that direction"
   ]
  },
  {
   "cell_type": "code",
   "execution_count": null,
   "metadata": {
    "hidden": true
   },
   "outputs": [],
   "source": [
    "H = np.array(sim.H);\n",
    "def _(x):\n",
    "    if x[1] > 0.5*H[1, 1] - 1.0e-8:\n",
    "        return False;\n",
    "    else:\n",
    "        x[1] *= 2.0;\n",
    "sim.do(_);\n",
    "\n",
    "_ = np.full((3,3), 0.0)\n",
    "_[1, 1] = -0.5\n",
    "sim.strain(_)"
   ]
  },
  {
   "cell_type": "markdown",
   "metadata": {
    "heading_collapsed": true,
    "hidden": true
   },
   "source": [
    "### Readjust the postions"
   ]
  },
  {
   "cell_type": "code",
   "execution_count": null,
   "metadata": {
    "hidden": true
   },
   "outputs": [],
   "source": [
    "H = np.array(sim.H);\n",
    "displace(sim,np.array([sim.H[0][0]/6.0, sim.H[1][1]/6.0, sim.H[2][2]/6.0]))"
   ]
  },
  {
   "cell_type": "markdown",
   "metadata": {
    "heading_collapsed": true,
    "hidden": true
   },
   "source": [
    "## Replicating the unit cell"
   ]
  },
  {
   "cell_type": "code",
   "execution_count": null,
   "metadata": {
    "hidden": true
   },
   "outputs": [],
   "source": [
    "max_natms=100000\n",
    "H=np.array(sim.H);\n",
    "n_per_area=sim.natms/(H[0,0] * H[1,1]);\n",
    "_ =np.sqrt(max_natms/n_per_area);\n",
    "N0 = np.array([\n",
    "    np.around(_ / sim.H[0][0]),\n",
    "    np.around(_ / sim.H[1][1]), \n",
    "    1], dtype=np.int32)\n",
    "\n",
    "# make sure in 1 direction it is an even number\n",
    "if N0[1] % 2 == 1:\n",
    "    N0[1] += 1\n",
    "\n",
    "sim *= N0;"
   ]
  },
  {
   "cell_type": "markdown",
   "metadata": {
    "heading_collapsed": true,
    "hidden": true
   },
   "source": [
    "## Add vacuum"
   ]
  },
  {
   "cell_type": "code",
   "execution_count": null,
   "metadata": {
    "hidden": true
   },
   "outputs": [],
   "source": [
    "vaccum = 100.0"
   ]
  },
  {
   "cell_type": "code",
   "execution_count": null,
   "metadata": {
    "hidden": true
   },
   "outputs": [],
   "source": [
    "H = np.array(sim.H);\n",
    "H_new = np.array(sim.H);\n",
    "H_new[0][0] += vaccum\n",
    "H_new[1][1] += vaccum\n",
    "resize(sim, H_new, H.sum(axis=0) * 0.5)"
   ]
  },
  {
   "cell_type": "markdown",
   "metadata": {
    "heading_collapsed": true,
    "hidden": true
   },
   "source": [
    "## Get the displacement field for this configuration "
   ]
  },
  {
   "cell_type": "code",
   "execution_count": null,
   "metadata": {
    "hidden": true
   },
   "outputs": [],
   "source": [
    "_ = np.array([[-1,1,0],[1,1,1],[1,1,-2]], dtype=np.float);\n",
    "Q = np.linalg.inv(np.sqrt(_ @ _.T)) @ _;\n",
    "C = rot(cubic(1.3967587463636366,0.787341583191591,0.609615090769241),Q)\n",
    "disp = crack(C)"
   ]
  },
  {
   "cell_type": "markdown",
   "metadata": {
    "heading_collapsed": true,
    "hidden": true
   },
   "source": [
    "## Impose the diplacement field and other boundary conditions"
   ]
  },
  {
   "cell_type": "code",
   "execution_count": null,
   "metadata": {
    "hidden": true
   },
   "outputs": [],
   "source": [
    "fixed_layer_thickness = 20.0\n",
    "intensity = 0.5\n",
    "rate = 0.001"
   ]
  },
  {
   "cell_type": "code",
   "execution_count": null,
   "metadata": {
    "hidden": true
   },
   "outputs": [],
   "source": [
    "H = np.array(sim.H);\n",
    "ctr = H.sum(axis=0) * 0.5\n",
    "\n",
    "lim = np.array([H[0, 0], H[1, 1]]) \n",
    "lim -= vaccum;\n",
    "lim *= 0.5\n",
    "lim -= fixed_layer_thickness\n",
    "\n",
    "def _(x, x_d, x_dof):\n",
    "    \n",
    "    x_rel = x[:2] - ctr[:2]\n",
    "    u = disp(x_rel)\n",
    "    x[:2] += intensity * u\n",
    "    \n",
    "    if (np.abs(x_rel) < lim).sum() != 2:\n",
    "        x_d[:2] = rate * u\n",
    "        x_dof[0] = False;\n",
    "        x_dof[1] = False;\n",
    "    \n",
    "sim.do(_)"
   ]
  },
  {
   "cell_type": "code",
   "execution_count": null,
   "metadata": {
    "hidden": true
   },
   "outputs": [],
   "source": [
    "md.export_cfg(\"\", extra_vecs=[\"x_dof\"] )(sim, \"dumps/crack.cfg\")"
   ]
  },
  {
   "cell_type": "markdown",
   "metadata": {
    "heading_collapsed": true,
    "hidden": true
   },
   "source": [
    "## assign intial velocities"
   ]
  },
  {
   "cell_type": "code",
   "execution_count": null,
   "metadata": {
    "hidden": true
   },
   "outputs": [],
   "source": [
    "sim.kB = 8.617330350e-5\n",
    "sim.hP = 4.13566766225 * 0.1 * np.sqrt(1.60217656535/1.66053904020)\n",
    "sim.create_temp(300.0, 846244)"
   ]
  },
  {
   "cell_type": "markdown",
   "metadata": {
    "heading_collapsed": true,
    "hidden": true
   },
   "source": [
    "## add hydrogen to the system"
   ]
  },
  {
   "cell_type": "code",
   "execution_count": null,
   "metadata": {
    "hidden": true
   },
   "outputs": [],
   "source": [
    "sim.add_elem('H',1.007940)"
   ]
  },
  {
   "cell_type": "markdown",
   "metadata": {
    "heading_collapsed": true
   },
   "source": [
    "# define ensemble"
   ]
  },
  {
   "cell_type": "markdown",
   "metadata": {
    "heading_collapsed": true,
    "hidden": true
   },
   "source": [
    "## muvt"
   ]
  },
  {
   "cell_type": "code",
   "execution_count": null,
   "metadata": {
    "hidden": true
   },
   "outputs": [],
   "source": [
    "# GPa and Kelvin\n",
    "def mu(p,T):\n",
    "    return -2.37+0.0011237850013293155*T+0.00004308665175*T*np.log(p)-0.000193889932875*T*np.log(T);"
   ]
  },
  {
   "cell_type": "code",
   "execution_count": null,
   "metadata": {
    "hidden": true
   },
   "outputs": [],
   "source": [
    "muvt = md.muvt(mu(1.0e-3,300.0), 300.0, 0.1, 'H', 73108204);\n",
    "muvt.nevery = 100;\n",
    "muvt.nattempts=40000;\n",
    "muvt.ntally=1000;\n",
    "muvt.export=md.export_cfg('dumps/dump',10000)"
   ]
  },
  {
   "cell_type": "markdown",
   "metadata": {
    "heading_collapsed": true
   },
   "source": [
    "# run gcmc"
   ]
  },
  {
   "cell_type": "code",
   "execution_count": null,
   "metadata": {
    "hidden": true
   },
   "outputs": [],
   "source": [
    "muvt.run(sim,100000);"
   ]
  }
 ],
 "metadata": {
  "kernelspec": {
   "display_name": "Python 3",
   "language": "python",
   "name": "python3"
  },
  "language_info": {
   "codemirror_mode": {
    "name": "ipython",
    "version": 3
   },
   "file_extension": ".py",
   "mimetype": "text/x-python",
   "name": "python",
   "nbconvert_exporter": "python",
   "pygments_lexer": "ipython3",
   "version": "3.8.2"
  }
 },
 "nbformat": 4,
 "nbformat_minor": 4
}
