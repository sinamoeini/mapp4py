{
 "cells": [
  {
   "cell_type": "markdown",
   "metadata": {
    "heading_collapsed": true
   },
   "source": [
    "# Introdcution"
   ]
  },
  {
   "cell_type": "markdown",
   "metadata": {
    "hidden": true
   },
   "source": [
    "This trial describes how to create edge and screw dislocations in iron BCC strating with one unitcell containing two atoms  "
   ]
  },
  {
   "cell_type": "markdown",
   "metadata": {
    "heading_collapsed": true,
    "hidden": true
   },
   "source": [
    "## Background"
   ]
  },
  {
   "cell_type": "markdown",
   "metadata": {
    "hidden": true
   },
   "source": [
    "The elastic solution for displacement field of dislocations is provided in the paper [Dislocation Displacement Fields in Anisotropic Media](https://doi.org/10.1063/1.1657954)."
   ]
  },
  {
   "cell_type": "markdown",
   "metadata": {
    "heading_collapsed": true,
    "hidden": true
   },
   "source": [
    "## Theoritical"
   ]
  },
  {
   "cell_type": "markdown",
   "metadata": {
    "hidden": true
   },
   "source": [
    "The [paper](https://doi.org/10.1063/1.1657954) mentioned in backgroud subsection deals with only one dislocation. Here we describe how to extend the solution to periodic array of dislocations. Since we are dealing with linear elasticity we can superpose (sum up) the displacement field of all the individual dislocations. Looking at the Eqs. (2-8)  of abovementioned reference this boils done to finding a closed form soloution for \n",
    "\n",
    "$$\\sum_{m=-\\infty}^{\\infty} \\log\\left(z-ma \\right).$$\n",
    "\n",
    "Where $z= x+yi$ and $a$ is a real number, equivakent to $\\mathbf{H}_{00}$ that defines the periodicity of dislocations on x direction. \n",
    "\n",
    "\n",
    "Let us simplify the problem a bit further. Since this is the component displacement field we can add or subtract constant term so for each $\\log\\left(z-ma \\right)$ we subtract a factor of $log\\left(a \\right)$, leading to\n",
    "\n",
    "$$\\sum_{m=-\\infty}^{\\infty} \\log\\left(\\frac{z}{a}-m \\right).$$\n",
    "\n",
    "Lets change $z/a$ to $z$ and when we arrive the solution we will change ot back\n",
    "\n",
    "$$\\sum_{m=-\\infty}^{\\infty} \\log\\left(z-m \\right).$$\n"
   ]
  },
  {
   "cell_type": "markdown",
   "metadata": {
    "hidden": true
   },
   "source": [
    "Objective is to find a closed form solution for\n",
    "\n",
    "$$f\\left(z\\right)=\\sum_{m=-\\infty}^{\\infty} \\log\\left(z-m \\right).$$\n",
    "\n",
    "First note that\n",
    "\n",
    "$$\n",
    "f'\\left(z\\right)=\\frac{1}{z}+\\sum_{m=1}^{\\infty}\\frac{1}{z-m}+\\frac{1}{z+m},\n",
    "$$\n",
    "\n",
    "\n",
    "and also\n",
    "$$\n",
    "\\frac{1}{z\\mp m}=\\mp \\frac{1}{m}\\sum_{n=0}^{\\infty}\n",
    "\\left(\\pm \\frac{z}{m}\\right)^n.\n",
    "$$\n",
    "\n",
    "\n",
    "\n",
    "\n",
    "This leads to\n",
    "$$\n",
    "\\frac{1}{z-m}+\\frac{1}{z+m}=-\\frac{2}{z}\\sum_{n=1}^{\\infty}\\left(\\frac{z}{m}\\right)^{2n},\n",
    "$$\n",
    "and subsequently\n",
    "$$\n",
    "f'\\left(z\\right)=\\frac{1}{z}-\\frac{2}{z}\\sum_{n=1}^{\\infty}\\left(z\\right)^{2n}\\sum_{m=1}^{\\infty}m^{-2n},\n",
    "$$\n",
    "$$\n",
    "=\\frac{1}{z}-\\frac{2}{z}\\sum_{n=1}^{\\infty}\\left(z\\right)^{2n}\\zeta\\left(2n\\right).\n",
    "$$\n",
    "Where $\\zeta$ is Riemann zeta function. Since $\\zeta\\left(0\\right)=-1/2$, it simplifies to:\n",
    "$$\n",
    "f'\\left(z\\right)=-\\frac{2}{z}\\sum_{n=0}^{\\infty}\\left(z\\right)^{2n}\\zeta\\left(2n\\right)\n",
    "$$\n",
    "Note that\n",
    "$$\n",
    "-\\frac{\\pi z\\cot\\left(\\pi z\\right)}{2}=\\sum_{n=0}^{\\infty}z^{2n} \\zeta\\left(2n\\right)\n",
    "$$\n",
    "\n",
    "I have no idea how I figured this out but it is true. Therefore,\n",
    "\n",
    "$$\n",
    "f'\\left(z\\right)=\\pi\\cot\\left(\\pi z\\right).\n",
    "$$"
   ]
  },
  {
   "cell_type": "markdown",
   "metadata": {
    "hidden": true
   },
   "source": [
    "At this point one can naively assume that the problem is solved (like I did) and the answer is something like:\n",
    "$$\n",
    "f\\left(z\\right)=\\log\\left[\\sin\\left(\\pi z\\right)\\right]+C,\n",
    "$$\n",
    "Where $C$ is a constant. However, after checking this against numerical vlaues you will see that this is completely wrong. "
   ]
  },
  {
   "cell_type": "markdown",
   "metadata": {
    "hidden": true
   },
   "source": [
    "The issue here is that startegy was wrong at the very begining. The sum of the displacelment of infinte dislocations will not converge since we have infinite discountinuity in displacement field. In other words they do not cancel each other they feed each other.\n",
    "\n",
    "\n",
    "But there is still a way to salvage this. Luckily, displacement is relative quantity and we are dealing with crystals. We can easily add a discontinuity in form an integer number burger vectors to a displacement field and nothing will be affected. \n",
    "\n",
    "So here is the trick: We will focus only on the displacement field of one unit cell dislocation (number 0). At each iteration we add two dislocation to its left and right. \n",
    "\n",
    "At $n$th iterations we add a discontinuity of the form\n",
    "\n",
    "$$\n",
    "-\\mathrm{Sign}\\left[\\mathrm{Im}\\left(z\\right)\\right] \\pi i\n",
    "$$\n",
    "\n",
    "and a constant of the form:\n",
    "$$\n",
    "-2\\log n.\n",
    "$$\n",
    "\n",
    "In other words and we need to evaluate: \n",
    "$$\n",
    "\\lim_{m\\to\\infty}\\sum_{n=-m}^{m}\n",
    "\\biggl\\{\n",
    "\\log\\left(z-n\\right)\n",
    "-\\mathrm{Sign}\\left[\\mathrm{Im}\\left(z\\right)\\right] \\pi i \n",
    "-2\\log\\left(n \\right)\n",
    "\\biggr\\} + \\pi,\n",
    "$$\n",
    "\n",
    "which simplifies to \n",
    "$$\n",
    "\\lim_{m\\to\\infty}\\sum_{n=-m}^{m}\\log\\left(z-n\\right)\n",
    "-\\mathrm{Sign}\\left[\\mathrm{Im}\\left(z\\right)\\right] m \\pi i \n",
    "-2\\log\\left(\\frac{m\\!!}{\\sqrt{\\pi}} \\right)\n",
    "$$"
   ]
  },
  {
   "cell_type": "markdown",
   "metadata": {
    "hidden": true
   },
   "source": [
    "Note that we added an extra $\\pi$ to displacement field for aesthetic reasons. After a lot of manipulations and tricks (meaning I dont't remember how I got here) we arrive at the following relation:\n",
    "$$\n",
    "\\lim_{m\\to\\infty}\\sum_{n=-m}^{m}\\log\\left(z-n\\right)\n",
    "-\\mathrm{Sign}\\left[\\mathrm{Im}\\left(z\\right)\\right] m \\pi i \n",
    "-2\\log\\left(\\frac{m\\!!}{\\sqrt{\\pi}} \\right)=\\log\\left[\\sin\\left(\\pi z\\right)\\right]\n",
    "$$\n",
    "However, this is only valid when \n",
    "$$-1/2 \\le\\mathrm{Re}\\left(z\\right)\\lt 1/2.$$ \n",
    "\n",
    "If one exceeds this domain the answer is:\n",
    "\n",
    "$$\n",
    "\\boxed{\n",
    "\\log\\left[\\sin\\left(\\pi z\\right)\\right]-\\mathrm{Sign}\\left[\\mathrm{Im}\\left(z\\right)\\right]\\left \\lceil{\\mathrm{Re}\\left(\\frac{z}{2}\\right)}-\\frac{3}{4}\\right \\rceil 2 \\pi i  \n",
    "}\n",
    "$$\n",
    "Where $\\lceil . \\rceil$ is the cieling function. Of course there is probably a nicer form. Feel free to derive it\n",
    "\n"
   ]
  },
  {
   "cell_type": "markdown",
   "metadata": {
    "heading_collapsed": true,
    "hidden": true
   },
   "source": [
    "## Final formulation "
   ]
  },
  {
   "cell_type": "markdown",
   "metadata": {
    "hidden": true
   },
   "source": [
    "To account for peridicity of dislocations in $x$ direction, the expression $\\log\\left(z\\right)$ in Eqs(2-7) of the [paper](https://doi.org/10.1063/1.1657954), it should be replaced by:\n",
    "\n",
    "$$\\lim_{m\\to\\infty}\\sum_{n=-m}^{m}\\log\\left(z-na\\right)\n",
    "-\\mathrm{Sign}\\left[\\mathrm{Im}\\left(z\\right)\\right] m \\pi i \n",
    "-2\\log\\left(\\frac{m\\,\\,\\!!}{\\sqrt{\\pi}} \\right),$$\n",
    "\n",
    "which has the closed form:\n",
    "$$\n",
    "\\boxed{\n",
    "\\log\\left[\\sin\\left(\\pi\\frac{z}{a}\\right)\\right]-\\mathrm{Sign}\\left[\\mathrm{Im}\\left(\\frac{z}{a}\\right)\\right]\\left \\lceil{\\mathrm{Re}\\left(\\frac{z}{2a}\\right)}-\\frac{3}{4}\\right \\rceil 2 \\pi i.\n",
    "}\n",
    "$$"
   ]
  },
  {
   "cell_type": "markdown",
   "metadata": {},
   "source": [
    "# Preperation"
   ]
  },
  {
   "cell_type": "markdown",
   "metadata": {},
   "source": [
    "## Import packages"
   ]
  },
  {
   "cell_type": "code",
   "execution_count": null,
   "metadata": {},
   "outputs": [],
   "source": [
    "import numpy as np\n",
    "import matplotlib.pyplot as plt\n",
    "import mapp4py\n",
    "from mapp4py import md\n",
    "from lib.elasticity import rot, cubic, resize, displace, HirthEdge, HirthScrew"
   ]
  },
  {
   "cell_type": "markdown",
   "metadata": {
    "heading_collapsed": true
   },
   "source": [
    "## Block the output of all cores except for one"
   ]
  },
  {
   "cell_type": "code",
   "execution_count": null,
   "metadata": {
    "hidden": true
   },
   "outputs": [],
   "source": [
    "from mapp4py import mpi\n",
    "if mpi().rank!=0:\n",
    "    with open(os.devnull, 'w') as f:\n",
    "        sys.stdout = f;"
   ]
  },
  {
   "cell_type": "markdown",
   "metadata": {
    "heading_collapsed": true
   },
   "source": [
    "## Define an `md.export_cfg` object "
   ]
  },
  {
   "cell_type": "markdown",
   "metadata": {
    "hidden": true
   },
   "source": [
    "`md.export_cfg` has a call method that we can use to create quick snapshots of our simulation box"
   ]
  },
  {
   "cell_type": "code",
   "execution_count": null,
   "metadata": {
    "hidden": true
   },
   "outputs": [],
   "source": [
    "xprt = md.export_cfg(\"\");"
   ]
  },
  {
   "cell_type": "markdown",
   "metadata": {
    "heading_collapsed": true
   },
   "source": [
    "# Screw dislocation"
   ]
  },
  {
   "cell_type": "code",
   "execution_count": null,
   "metadata": {
    "hidden": true
   },
   "outputs": [],
   "source": [
    "sim=md.atoms.import_cfg('configs/Fe_300K.cfg');\n",
    "nlyrs_fxd=2\n",
    "a=sim.H[0][0];\n",
    "b_norm=0.5*a*np.sqrt(3.0);\n",
    "\n",
    "b=np.array([1.0,1.0,1.0])\n",
    "s=np.array([1.0,-1.0,0.0])/np.sqrt(2.0)"
   ]
  },
  {
   "cell_type": "markdown",
   "metadata": {
    "heading_collapsed": true,
    "hidden": true
   },
   "source": [
    "## Create a $\\langle110\\rangle\\times\\langle112\\rangle\\times\\frac{1}{2}\\langle111\\rangle$ cell"
   ]
  },
  {
   "cell_type": "markdown",
   "metadata": {
    "heading_collapsed": true,
    "hidden": true
   },
   "source": [
    "### create a $\\langle110\\rangle\\times\\langle112\\rangle\\times\\langle111\\rangle$ cell"
   ]
  },
  {
   "cell_type": "markdown",
   "metadata": {
    "hidden": true
   },
   "source": [
    "Since `mapp4py.md.atoms.cell_chenge()` only accepts integer values start by creating a $\\langle110\\rangle\\times\\langle112\\rangle\\times\\langle111\\rangle$ cell"
   ]
  },
  {
   "cell_type": "code",
   "execution_count": null,
   "metadata": {
    "hidden": true
   },
   "outputs": [],
   "source": [
    "sim.cell_change([[1,-1,0],[1,1,-2],[1,1,1]])"
   ]
  },
  {
   "cell_type": "markdown",
   "metadata": {
    "heading_collapsed": true,
    "hidden": true
   },
   "source": [
    "### Remove half of the atoms and readjust the position of remaining"
   ]
  },
  {
   "cell_type": "markdown",
   "metadata": {
    "hidden": true
   },
   "source": [
    "Now one needs to cut the cell in half in $[111]$ direction. We can achive this in three steps:\n",
    "\n",
    "1. Remove the atoms that are above located above $\\frac{1}{2}[111]$\n",
    "2. Double the position of the remiaing atoms in the said direction\n",
    "3. Shrink the box affinly to half on that direction"
   ]
  },
  {
   "cell_type": "code",
   "execution_count": null,
   "metadata": {
    "hidden": true
   },
   "outputs": [],
   "source": [
    "H=np.array(sim.H);\n",
    "def _(x):\n",
    "    if x[2] > 0.5*H[2, 2] - 1.0e-8:\n",
    "        return False;\n",
    "    else:\n",
    "        x[2]*=2.0;\n",
    "sim.do(_);\n",
    "\n",
    "_ = np.full((3,3), 0.0)\n",
    "_[2, 2] = - 0.5\n",
    "sim.strain(_)"
   ]
  },
  {
   "cell_type": "markdown",
   "metadata": {
    "heading_collapsed": true,
    "hidden": true
   },
   "source": [
    "### Readjust the postions"
   ]
  },
  {
   "cell_type": "code",
   "execution_count": null,
   "metadata": {
    "hidden": true
   },
   "outputs": [],
   "source": [
    "displace(sim,np.array([sim.H[0][0]/6.0,sim.H[1][1]/6.0,0.0]))"
   ]
  },
  {
   "cell_type": "markdown",
   "metadata": {
    "hidden": true
   },
   "source": [
    "## Replicating the unit cell"
   ]
  },
  {
   "cell_type": "code",
   "execution_count": null,
   "metadata": {
    "hidden": true
   },
   "outputs": [],
   "source": [
    "max_natms=100000\n",
    "H=np.array(sim.H);\n",
    "n_per_area=sim.natms/(H[0,0] * H[1,1]);\n",
    "_ =np.sqrt(max_natms/n_per_area);\n",
    "N0 = np.array([\n",
    "    np.around(_ / sim.H[0][0]),\n",
    "    np.around(_ / sim.H[1][1]), \n",
    "    1], dtype=np.int32)\n",
    "\n",
    "sim *= N0;"
   ]
  },
  {
   "cell_type": "code",
   "execution_count": null,
   "metadata": {
    "hidden": true
   },
   "outputs": [],
   "source": [
    "H = np.array(sim.H);\n",
    "H_new = np.array(sim.H);\n",
    "H_new[1][1] += 50.0\n",
    "resize(sim, H_new, np.full((3),0.5) @ H)"
   ]
  },
  {
   "cell_type": "code",
   "execution_count": null,
   "metadata": {
    "hidden": true
   },
   "outputs": [],
   "source": [
    "C_Fe=cubic(1.3967587463636366,0.787341583191591,0.609615090769241);\n",
    "Q=np.array([np.cross(s,b)/np.linalg.norm(np.cross(s,b)),s/np.linalg.norm(s),b/np.linalg.norm(b)])\n",
    "hirth = HirthScrew(rot(C_Fe,Q), rot(b*0.5*a,Q))"
   ]
  },
  {
   "cell_type": "code",
   "execution_count": null,
   "metadata": {
    "hidden": true
   },
   "outputs": [],
   "source": [
    "ctr = np.full((3),0.5) @ H_new;\n",
    "s_fxd=0.5-0.5*float(nlyrs_fxd)/float(N0[1])\n",
    "\n",
    "def _(x,x_d,x_dof):\n",
    "    sy=(x[1]-ctr[1])/H[1, 1];\n",
    "    x0=(x-ctr)/H[0, 0];\n",
    "\n",
    "    if sy>s_fxd or sy<=-s_fxd:\n",
    "        x_dof[1]=x_dof[2]=False;\n",
    "        x+=b_norm*hirth.ave_disp(x0)\n",
    "    else:\n",
    "        x+=b_norm*hirth.disp(x0)\n",
    "\n",
    "sim.do(_)    "
   ]
  },
  {
   "cell_type": "code",
   "execution_count": null,
   "metadata": {
    "hidden": true
   },
   "outputs": [],
   "source": [
    "H = np.array(sim.H);\n",
    "H_inv = np.array(sim.B);\n",
    "H_new = np.array(sim.H);\n",
    "\n",
    "H_new[0,0]=np.sqrt(H[0,0]**2+(0.5*b_norm)**2)\n",
    "H_new[2,0]=H[2,2]*0.5*b_norm/H_new[0,0]\n",
    "H_new[2,2]=np.sqrt(H[2,2]**2-H_new[2,0]**2)\n",
    "F = np.transpose(H_inv @ H_new);\n",
    "sim.strain(F - np.identity(3))"
   ]
  },
  {
   "cell_type": "code",
   "execution_count": null,
   "metadata": {
    "hidden": true
   },
   "outputs": [],
   "source": [
    "xprt(sim, \"dumps/screw.cfg\")"
   ]
  },
  {
   "cell_type": "markdown",
   "metadata": {
    "heading_collapsed": true,
    "hidden": true
   },
   "source": [
    "## putting it all together"
   ]
  },
  {
   "cell_type": "code",
   "execution_count": null,
   "metadata": {
    "hidden": true
   },
   "outputs": [],
   "source": [
    "def make_scrw(nlyrs_fxd,nlyrs_vel,vel):\n",
    "    #this is for 0K\n",
    "    #c_Fe=cubic(1.5187249951755375,0.9053185628093443,0.7249256807942608);\n",
    "    #this is for 300K\n",
    "    c_Fe=cubic(1.3967587463636366,0.787341583191591,0.609615090769241);\n",
    "    \n",
    "    #N0=np.array([80,46,5],dtype=np.int32)\n",
    "\n",
    "    sim=md.atoms.import_cfg('configs/Fe_300K.cfg');\n",
    "    a=sim.H[0][0];\n",
    "    b_norm=0.5*a*np.sqrt(3.0);\n",
    "\n",
    "    b=np.array([1.0,1.0,1.0])\n",
    "    s=np.array([1.0,-1.0,0.0])/np.sqrt(2.0)\n",
    "    Q=np.array([np.cross(s,b)/np.linalg.norm(np.cross(s,b)),s/np.linalg.norm(s),b/np.linalg.norm(b)])\n",
    "    c0=rot(c_Fe,Q)\n",
    "    \n",
    "    hirth = HirthScrew(rot(c_Fe,Q),np.dot(Q,b)*0.5*a)\n",
    "\n",
    "\n",
    "    sim.cell_change([[1,-1,0],[1,1,-2],[1,1,1]])\n",
    "    displace(sim,np.array([sim.H[0][0]/6.0,sim.H[1][1]/6.0,0.0]))\n",
    "\n",
    "    max_natms=1000000\n",
    "    n_per_vol=sim.natms/sim.vol;\n",
    "    _=np.power(max_natms/n_per_vol,1.0/3.0);\n",
    "    N1=np.full((3),0,dtype=np.int32);\n",
    "    for i in range(0,3):\n",
    "        N1[i]=int(np.around(_/sim.H[i][i]));\n",
    "\n",
    "    N0=np.array([N1[0],N1[1],1],dtype=np.int32);\n",
    "    sim*=N0;\n",
    "\n",
    "    sim.kB=8.617330350e-5\n",
    "    sim.create_temp(300.0,8569643);\n",
    "\n",
    "    H=np.array(sim.H);\n",
    "    H_new=np.array(sim.H);\n",
    "    H_new[1][1]+=50.0\n",
    "    resize(sim, H_new, np.full((3),0.5) @ H)\n",
    "    ctr=np.dot(np.full((3),0.5),H_new);\n",
    "\n",
    "\n",
    "    s_fxd=0.5-0.5*float(nlyrs_fxd)/float(N0[1])\n",
    "    s_vel=0.5-0.5*float(nlyrs_vel)/float(N0[1])\n",
    "\n",
    "    def _(x,x_d,x_dof):\n",
    "        sy=(x[1]-ctr[1])/H[1][1];\n",
    "        x0=(x-ctr)/H[0][0];\n",
    "        \n",
    "        if sy>s_fxd or sy<=-s_fxd:\n",
    "            x_d[1]=0.0;\n",
    "            x_dof[1]=x_dof[2]=False;\n",
    "            x+=b_norm*hirth.ave_disp(x0)\n",
    "        else:\n",
    "            x+=b_norm*hirth.disp(x0)\n",
    "        \n",
    "        if sy<=-s_vel or sy>s_vel:\n",
    "            x_d[2]=2.0*sy*vel;\n",
    "\n",
    "    sim.do(_)    \n",
    "    H = np.array(sim.H);\n",
    "    H_inv = np.array(sim.B);\n",
    "    H_new = np.array(sim.H);\n",
    "\n",
    "\n",
    "    H_new[0,0]=np.sqrt(H[0,0]**2+(0.5*b_norm)**2)\n",
    "    H_new[2,0]=H[2,2]*0.5*b_norm/H_new[0,0]\n",
    "    H_new[2,2]=np.sqrt(H[2,2]**2-H_new[2,0]**2)\n",
    "    F = np.transpose(H_inv @ H_new);\n",
    "    sim.strain(F - np.identity(3))\n",
    "    return N1[2],sim;"
   ]
  },
  {
   "cell_type": "markdown",
   "metadata": {
    "heading_collapsed": true
   },
   "source": [
    "# Edge dislocation"
   ]
  },
  {
   "cell_type": "code",
   "execution_count": null,
   "metadata": {
    "hidden": true
   },
   "outputs": [],
   "source": [
    "sim=md.atoms.import_cfg('configs/Fe_300K.cfg');\n",
    "nlyrs_fxd=2\n",
    "a=sim.H[0][0];\n",
    "b_norm=0.5*a*np.sqrt(3.0);\n",
    "\n",
    "b=np.array([1.0,1.0,1.0])\n",
    "s=np.array([1.0,-1.0,0.0])/np.sqrt(2.0)"
   ]
  },
  {
   "cell_type": "code",
   "execution_count": null,
   "metadata": {
    "hidden": true
   },
   "outputs": [],
   "source": [
    "sim.cell_change([[1,1,1],[1,-1,0],[1,1,-2]])\n",
    "H=np.array(sim.H);\n",
    "\n",
    "def _(x):\n",
    "    if x[0] > 0.5*H[0, 0] - 1.0e-8:\n",
    "        return False;\n",
    "    else:\n",
    "        x[0]*=2.0;\n",
    "sim.do(_);\n",
    "_ = np.full((3,3), 0.0)\n",
    "_[0,0] = - 0.5\n",
    "sim.strain(_)\n",
    "displace(sim,np.array([0.0,sim.H[1][1]/4.0,0.0]))"
   ]
  },
  {
   "cell_type": "code",
   "execution_count": null,
   "metadata": {
    "hidden": true
   },
   "outputs": [],
   "source": [
    "max_natms=100000\n",
    "H=np.array(sim.H);\n",
    "n_per_area=sim.natms/(H[0, 0] * H[1, 1]);\n",
    "_ =np.sqrt(max_natms/n_per_area);\n",
    "N0 = np.array([\n",
    "    np.around(_ / sim.H[0, 0]),\n",
    "    np.around(_ / sim.H[1, 1]), \n",
    "    1], dtype=np.int32)\n",
    "\n",
    "sim *=  N0;"
   ]
  },
  {
   "cell_type": "code",
   "execution_count": null,
   "metadata": {
    "hidden": true
   },
   "outputs": [],
   "source": [
    "# remove one layer along ... direction\n",
    "H=np.array(sim.H);\n",
    "frac=H[0,0] /N0[0]\n",
    "def _(x):\n",
    "    if x[0] < H[0, 0] /N0[0] and x[1] >0.5*H[1, 1]:\n",
    "        return False;\n",
    "\n",
    "sim.do(_)"
   ]
  },
  {
   "cell_type": "code",
   "execution_count": null,
   "metadata": {
    "hidden": true
   },
   "outputs": [],
   "source": [
    "H = np.array(sim.H);\n",
    "H_new = np.array(sim.H);\n",
    "H_new[1][1] += 50.0\n",
    "resize(sim, H_new, np.full((3),0.5) @ H)"
   ]
  },
  {
   "cell_type": "code",
   "execution_count": null,
   "metadata": {
    "hidden": true
   },
   "outputs": [],
   "source": [
    "C_Fe=cubic(1.3967587463636366,0.787341583191591,0.609615090769241);\n",
    "_ = np.cross(b,s)\n",
    "Q = np.array([b/np.linalg.norm(b), s/np.linalg.norm(s), _/np.linalg.norm(_)])\n",
    "hirth = HirthEdge(rot(C_Fe,Q), rot(b*0.5*a,Q))"
   ]
  },
  {
   "cell_type": "code",
   "execution_count": null,
   "metadata": {
    "hidden": true
   },
   "outputs": [],
   "source": [
    "_ = (1.0+0.5*(N0[0]-1.0))/N0[0];\n",
    "ctr = np.array([_,0.5,0.5]) @ H_new;\n",
    "frac = H[0][0]/N0[0]\n",
    "\n",
    "s_fxd=0.5-0.5*float(nlyrs_fxd)/float(N0[1])\n",
    "\n",
    "def _(x,x_d,x_dof):\n",
    "    sy=(x[1]-ctr[1])/H[1, 1];\n",
    "    x0=(x-ctr);\n",
    "    if(x0[1]>0.0):\n",
    "        x0/=(H[0, 0]-frac)\n",
    "    else:\n",
    "        x0/= H[0, 0]\n",
    "\n",
    "\n",
    "    if sy>s_fxd or sy<=-s_fxd:\n",
    "        x+=b_norm*hirth.ave_disp(x0);\n",
    "        x_dof[0]=x_dof[1]=False;\n",
    "    else:\n",
    "        x+=b_norm*hirth.disp(x0);\n",
    "\n",
    "    x[0]-=0.25*b_norm;\n",
    "\n",
    "sim.do(_)"
   ]
  },
  {
   "cell_type": "code",
   "execution_count": null,
   "metadata": {
    "hidden": true
   },
   "outputs": [],
   "source": [
    "H = np.array(sim.H)\n",
    "H_new = np.array(sim.H);\n",
    "H_new[0, 0] -= 0.5*b_norm;\n",
    "resize(sim, H_new, np.full((3),0.5) @ H)"
   ]
  },
  {
   "cell_type": "code",
   "execution_count": null,
   "metadata": {
    "hidden": true
   },
   "outputs": [],
   "source": [
    "xprt(sim, \"dumps/edge.cfg\")"
   ]
  },
  {
   "cell_type": "markdown",
   "metadata": {
    "heading_collapsed": true,
    "hidden": true
   },
   "source": [
    "## putting it all together"
   ]
  },
  {
   "cell_type": "code",
   "execution_count": null,
   "metadata": {
    "hidden": true
   },
   "outputs": [],
   "source": [
    "def make_edge(nlyrs_fxd,nlyrs_vel,vel):\n",
    "    #this is for 0K\n",
    "    #c_Fe=cubic(1.5187249951755375,0.9053185628093443,0.7249256807942608);\n",
    "    #this is for 300K\n",
    "    c_Fe=cubic(1.3967587463636366,0.787341583191591,0.609615090769241);\n",
    "    \n",
    "    #N0=np.array([80,46,5],dtype=np.int32)\n",
    "\n",
    "    sim=md.atoms.import_cfg('configs/Fe_300K.cfg');\n",
    "    a=sim.H[0][0];\n",
    "    b_norm=0.5*a*np.sqrt(3.0);\n",
    "\n",
    "    b=np.array([1.0,1.0,1.0])\n",
    "    s=np.array([1.0,-1.0,0.0])/np.sqrt(2.0)\n",
    "\n",
    "    # create rotation matrix\n",
    "    _ = np.cross(b,s)\n",
    "    Q=np.array([b/np.linalg.norm(b), s/np.linalg.norm(s), _/np.linalg.norm(_)])\n",
    "    hirth = HirthEdge(rot(c_Fe,Q),np.dot(Q,b)*0.5*a)\n",
    "\n",
    "    # create a unit cell \n",
    "    sim.cell_change([[1,1,1],[1,-1,0],[1,1,-2]])\n",
    "    H=np.array(sim.H);\n",
    "    def f0(x):\n",
    "        if x[0]>0.5*H[0][0]-1.0e-8:\n",
    "            return False;\n",
    "        else:\n",
    "            x[0]*=2.0;\n",
    "    sim.do(f0);\n",
    "    _ = np.full((3,3), 0.0)\n",
    "    _[0,0] = - 0.5\n",
    "    sim.strain(_)\n",
    "    displace(sim,np.array([0.0,sim.H[1][1]/4.0,0.0]))\n",
    "\n",
    "    max_natms=1000000\n",
    "    n_per_vol=sim.natms/sim.vol;\n",
    "    _=np.power(max_natms/n_per_vol,1.0/3.0);\n",
    "    N1=np.full((3),0,dtype=np.int32);\n",
    "    for i in range(0,3):\n",
    "        N1[i]=int(np.around(_/sim.H[i][i]));\n",
    "\n",
    "    N0=np.array([N1[0],N1[1],1],dtype=np.int32);\n",
    "    N0[0]+=1;\n",
    "    sim*=N0;\n",
    "\n",
    "\n",
    "    # remove one layer along ... direction\n",
    "    H=np.array(sim.H);\n",
    "    frac=H[0][0]/N0[0]\n",
    "    def _(x):\n",
    "        if x[0] < H[0][0]/N0[0] and x[1]>0.5*H[1][1]:\n",
    "            return False;\n",
    "\n",
    "    sim.do(_)\n",
    "    \n",
    "    \n",
    "\n",
    "    sim.kB=8.617330350e-5\n",
    "    sim.create_temp(300.0,8569643);\n",
    "\n",
    "\n",
    "    H = np.array(sim.H);\n",
    "    H_new = np.array(sim.H);\n",
    "    H_new[1][1] += 50.0\n",
    "    ctr=np.dot(np.full((3),0.5),H);\n",
    "    resize(sim,H_new, np.full((3),0.5) @ H)\n",
    "    l=(1.0+0.5*(N0[0]-1.0))/N0[0];\n",
    "    ctr=np.dot(np.array([l,0.5,0.5]),H_new);\n",
    "    frac=H[0][0]/N0[0]\n",
    "\n",
    "    s_fxd=0.5-0.5*float(nlyrs_fxd)/float(N0[1])\n",
    "    s_vel=0.5-0.5*float(nlyrs_vel)/float(N0[1])\n",
    "\n",
    "    def f(x,x_d,x_dof):\n",
    "        sy=(x[1]-ctr[1])/H[1][1];\n",
    "        x0=(x-ctr);\n",
    "        if(x0[1]>0.0):\n",
    "            x0/=(H[0][0]-frac)\n",
    "        else:\n",
    "            x0/= H[0][0]\n",
    "\n",
    "\n",
    "        if sy>s_fxd or sy<=-s_fxd:\n",
    "            x_d[1]=0.0;\n",
    "            x_dof[0]=x_dof[1]=False;\n",
    "            x+=b_norm*hirth.ave_disp(x0);\n",
    "        else:\n",
    "            x+=b_norm*hirth.disp(x0);\n",
    "        \n",
    "        if sy<=-s_vel or sy>s_vel:\n",
    "            x_d[0]=2.0*sy*vel;\n",
    "        x[0]-=0.25*b_norm;\n",
    "\n",
    "    sim.do(f)\n",
    "    H = np.array(sim.H)\n",
    "    H_new = np.array(sim.H);\n",
    "    H_new[0, 0] -= 0.5*b_norm;\n",
    "    resize(sim, H_new, np.full((3),0.5) @ H)\n",
    "    return N1[2], sim;"
   ]
  },
  {
   "cell_type": "code",
   "execution_count": null,
   "metadata": {
    "hidden": true
   },
   "outputs": [],
   "source": [
    "nlyrs_fxd=2\n",
    "nlyrs_vel=7;\n",
    "vel=-0.004;\n",
    "N,sim=make_edge(nlyrs_fxd,nlyrs_vel,vel)"
   ]
  },
  {
   "cell_type": "code",
   "execution_count": null,
   "metadata": {
    "hidden": true
   },
   "outputs": [],
   "source": [
    "xprt(sim, \"dumps/edge.cfg\")"
   ]
  },
  {
   "cell_type": "markdown",
   "metadata": {},
   "source": [
    "# Crack"
   ]
  },
  {
   "cell_type": "code",
   "execution_count": null,
   "metadata": {},
   "outputs": [],
   "source": [
    "_ = np.array([[-1,1,0],[1,1,1],[1,1,-2]], dtype=np.float);\n",
    "Q = np.linalg.inv(np.sqrt(_ @ _.T)) @ _;"
   ]
  },
  {
   "cell_type": "code",
   "execution_count": null,
   "metadata": {},
   "outputs": [],
   "source": [
    "C = rot(cubic(1.3967587463636366,0.787341583191591,0.609615090769241),Q)"
   ]
  },
  {
   "cell_type": "code",
   "execution_count": null,
   "metadata": {},
   "outputs": [],
   "source": [
    "B = np.linalg.inv(\n",
    "    np.array([\n",
    "    [C[0, 0, 0, 0], C[0, 0, 1, 1], C[0, 0, 0, 1]],\n",
    "    [C[0, 0, 1, 1], C[1, 1, 1, 1], C[1, 1, 0, 1]],\n",
    "    [C[0, 0, 0, 1], C[1, 1, 0, 1], C[0, 1, 0, 1]]\n",
    "    ]\n",
    "))"
   ]
  },
  {
   "cell_type": "code",
   "execution_count": null,
   "metadata": {},
   "outputs": [],
   "source": [
    "_ = np.roots([B[0, 0], -2.0*B[0, 2],2.0*B[0, 1]+B[2, 2], -2.0*B[1, 2], B[1, 1]])\n",
    "\n",
    "mu = np.array([_[0],0.0]);\n",
    "\n",
    "if np.absolute(np.conjugate(mu[0]) - _[1]) > 1.0e-12:\n",
    "    mu[1] = _[1];\n",
    "else:\n",
    "    mu[1] = _[2]\n",
    "\n",
    "alpha = np.real(mu);\n",
    "beta = np.imag(mu);\n",
    "\n",
    "p = B[0,0] * mu**2 - B[0,2] * mu + B[0, 1]\n",
    "q = B[0,1] * mu - B[0, 2] + B[1, 1]/ mu\n",
    "\n",
    "K = np.stack([p, q]) * np.array(mu[1], mu[0]) /(mu[1] - mu[0])\n",
    "\n",
    "\n",
    "def u_f(x): \n",
    "    return np.sqrt(x[0]*x[0] + x[1]*x[1]) \n",
    "def u_g(x): np.sqrt(np.sqrt(x*x + y*y) - x)"
   ]
  },
  {
   "cell_type": "code",
   "execution_count": null,
   "metadata": {},
   "outputs": [],
   "source": [
    "Tr = np.stack([\n",
    "    np.array(np.array([[1.0, alpha[0]], [0.0, beta[0]]])), \n",
    "    np.array([[1.0, alpha[1]], [0.0, beta[1]]])\n",
    "], axis=1)\n",
    "\n",
    "K_r = np.real(K)\n",
    "K_i = np.imag(K)\n",
    "\n",
    "def u_f0(x): return np.sqrt(np.sqrt(x[0] * x[0] + x[1] * x[1]) + x[0])\n",
    "def u_f1(x): return np.sqrt(np.sqrt(x[0] * x[0] + x[1] * x[1]) - x[0]) * np.sign(x[1]) \n",
    "\n",
    "\n",
    "def disp(x): \n",
    "    _ = Tr @ x\n",
    "    return K_r @ u_f0(_) + K_i @ u_f1(_)"
   ]
  },
  {
   "cell_type": "code",
   "execution_count": null,
   "metadata": {},
   "outputs": [],
   "source": [
    "n = 300;\n",
    "r = 10;\n",
    "disp_scale = 0.3;\n",
    "\n",
    "\n",
    "n0 = int(np.round(n/ (1 +np.pi), ))\n",
    "n1 = n - n0\n",
    "\n",
    "\n",
    "\n",
    "\n",
    "xs = np.concatenate((\n",
    "        np.stack([np.linspace(0, -r , n0), np.full((n0,), -1.e-8)]),\n",
    "        r * np.stack([np.cos(np.linspace(-np.pi, np.pi , n1)),np.sin(np.linspace(-np.pi, np.pi , n1))]), \n",
    "        np.stack([np.linspace(-r, 0 , n0), np.full((n0,), 1.e-8)]),\n",
    "    ), axis =1)\n",
    "\n",
    "xs_def = xs + disp_scale * disp(xs)\n",
    "\n",
    "fig, ax = plt.subplots(figsize=(10.5,5), ncols = 2)\n",
    "ax[0].plot(xs[0], xs[1], \"b-\", label=\"non-deformed\");\n",
    "ax[1].plot(xs_def[0], xs_def[1], \"r-.\", label=\"deformed\");\n"
   ]
  }
 ],
 "metadata": {
  "kernelspec": {
   "display_name": "Python 3",
   "language": "python",
   "name": "python3"
  },
  "language_info": {
   "codemirror_mode": {
    "name": "ipython",
    "version": 3
   },
   "file_extension": ".py",
   "mimetype": "text/x-python",
   "name": "python",
   "nbconvert_exporter": "python",
   "pygments_lexer": "ipython3",
   "version": "3.8.2"
  }
 },
 "nbformat": 4,
 "nbformat_minor": 4
}
